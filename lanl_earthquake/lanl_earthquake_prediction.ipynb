{
  "cells": [
    {
      "metadata": {
        "_uuid": "8f2839f25d086af736a60e9eeb907d3b93b6e0e5",
        "_cell_guid": "b1076dfc-b9ad-4769-8c92-a6c4dae69d19",
        "trusted": true
      },
      "cell_type": "code",
      "source": "import numpy as np\nimport pandas as pd\nimport os\n\nimport matplotlib.pyplot as plt\n%matplotlib inline\nfrom tqdm import tqdm_notebook\nfrom sklearn.preprocessing import StandardScaler\nfrom sklearn.svm import NuSVR\nfrom sklearn.metrics import mean_absolute_error\npd.options.display.precision = 15\n\nimport lightgbm as lgb\nimport xgboost as xgb\nimport time\nimport datetime\n\nfrom sklearn.preprocessing import LabelEncoder\nfrom sklearn.model_selection import StratifiedKFold, KFold, RepeatedKFold\nfrom sklearn.metrics import mean_squared_error, mean_absolute_error\nfrom sklearn.linear_model import Ridge, RidgeCV\nimport gc\nfrom catboost import CatBoostRegressor\nimport seaborn as sns",
      "execution_count": 2,
      "outputs": []
    },
    {
      "metadata": {
        "_cell_guid": "79c7e3d0-c299-4dcb-8224-4455121ee9b0",
        "_uuid": "d629ff2d2480ee46fbb7e2d37f6b5fab8052498a",
        "trusted": true
      },
      "cell_type": "code",
      "source": "train = pd.read_csv('../input/train.csv', nrows = 1000000, dtype={'acoustic_data': np.int16, 'time_to_failure': np.float64})",
      "execution_count": 3,
      "outputs": []
    },
    {
      "metadata": {
        "trusted": true,
        "_uuid": "7e461fa39cd51f56e1e1178f2bfea0d3bd85b0a8"
      },
      "cell_type": "code",
      "source": "train.head(20)",
      "execution_count": 4,
      "outputs": [
        {
          "output_type": "execute_result",
          "execution_count": 4,
          "data": {
            "text/plain": "    acoustic_data  time_to_failure\n0              12     1.4690999832\n1               6     1.4690999821\n2               8     1.4690999810\n3               5     1.4690999799\n4               8     1.4690999788\n5               8     1.4690999777\n6               9     1.4690999766\n7               7     1.4690999755\n8              -5     1.4690999744\n9               3     1.4690999733\n10              5     1.4690999722\n11              2     1.4690999711\n12              2     1.4690999700\n13              3     1.4690999689\n14             -1     1.4690999678\n15              5     1.4690999667\n16              6     1.4690999656\n17              4     1.4690999645\n18              3     1.4690999634\n19              5     1.4690999623",
            "text/html": "<div>\n<style scoped>\n    .dataframe tbody tr th:only-of-type {\n        vertical-align: middle;\n    }\n\n    .dataframe tbody tr th {\n        vertical-align: top;\n    }\n\n    .dataframe thead th {\n        text-align: right;\n    }\n</style>\n<table border=\"1\" class=\"dataframe\">\n  <thead>\n    <tr style=\"text-align: right;\">\n      <th></th>\n      <th>acoustic_data</th>\n      <th>time_to_failure</th>\n    </tr>\n  </thead>\n  <tbody>\n    <tr>\n      <th>0</th>\n      <td>12</td>\n      <td>1.4690999832</td>\n    </tr>\n    <tr>\n      <th>1</th>\n      <td>6</td>\n      <td>1.4690999821</td>\n    </tr>\n    <tr>\n      <th>2</th>\n      <td>8</td>\n      <td>1.4690999810</td>\n    </tr>\n    <tr>\n      <th>3</th>\n      <td>5</td>\n      <td>1.4690999799</td>\n    </tr>\n    <tr>\n      <th>4</th>\n      <td>8</td>\n      <td>1.4690999788</td>\n    </tr>\n    <tr>\n      <th>5</th>\n      <td>8</td>\n      <td>1.4690999777</td>\n    </tr>\n    <tr>\n      <th>6</th>\n      <td>9</td>\n      <td>1.4690999766</td>\n    </tr>\n    <tr>\n      <th>7</th>\n      <td>7</td>\n      <td>1.4690999755</td>\n    </tr>\n    <tr>\n      <th>8</th>\n      <td>-5</td>\n      <td>1.4690999744</td>\n    </tr>\n    <tr>\n      <th>9</th>\n      <td>3</td>\n      <td>1.4690999733</td>\n    </tr>\n    <tr>\n      <th>10</th>\n      <td>5</td>\n      <td>1.4690999722</td>\n    </tr>\n    <tr>\n      <th>11</th>\n      <td>2</td>\n      <td>1.4690999711</td>\n    </tr>\n    <tr>\n      <th>12</th>\n      <td>2</td>\n      <td>1.4690999700</td>\n    </tr>\n    <tr>\n      <th>13</th>\n      <td>3</td>\n      <td>1.4690999689</td>\n    </tr>\n    <tr>\n      <th>14</th>\n      <td>-1</td>\n      <td>1.4690999678</td>\n    </tr>\n    <tr>\n      <th>15</th>\n      <td>5</td>\n      <td>1.4690999667</td>\n    </tr>\n    <tr>\n      <th>16</th>\n      <td>6</td>\n      <td>1.4690999656</td>\n    </tr>\n    <tr>\n      <th>17</th>\n      <td>4</td>\n      <td>1.4690999645</td>\n    </tr>\n    <tr>\n      <th>18</th>\n      <td>3</td>\n      <td>1.4690999634</td>\n    </tr>\n    <tr>\n      <th>19</th>\n      <td>5</td>\n      <td>1.4690999623</td>\n    </tr>\n  </tbody>\n</table>\n</div>"
          },
          "metadata": {}
        }
      ]
    },
    {
      "metadata": {
        "trusted": true,
        "_uuid": "77dc7cc3a6f5fc08efb48d56738b8e390c9c2ad1"
      },
      "cell_type": "code",
      "source": "train.describe()",
      "execution_count": 5,
      "outputs": [
        {
          "output_type": "execute_result",
          "execution_count": 5,
          "data": {
            "text/plain": "                 acoustic_data          time_to_failure\ncount  1000000.000000000000000  1000000.000000000000000\nmean         4.876248000000000        1.339787547164501\nstd          6.380823156725169        0.074985946080878\nmin       -199.000000000000000        1.209499350700000\n25%          2.000000000000000        1.274399508825000\n50%          5.000000000000000        1.339299666950000\n75%          7.000000000000000        1.404199825075000\nmax        197.000000000000000        1.469099983200000",
            "text/html": "<div>\n<style scoped>\n    .dataframe tbody tr th:only-of-type {\n        vertical-align: middle;\n    }\n\n    .dataframe tbody tr th {\n        vertical-align: top;\n    }\n\n    .dataframe thead th {\n        text-align: right;\n    }\n</style>\n<table border=\"1\" class=\"dataframe\">\n  <thead>\n    <tr style=\"text-align: right;\">\n      <th></th>\n      <th>acoustic_data</th>\n      <th>time_to_failure</th>\n    </tr>\n  </thead>\n  <tbody>\n    <tr>\n      <th>count</th>\n      <td>1000000.000000000000000</td>\n      <td>1000000.000000000000000</td>\n    </tr>\n    <tr>\n      <th>mean</th>\n      <td>4.876248000000000</td>\n      <td>1.339787547164501</td>\n    </tr>\n    <tr>\n      <th>std</th>\n      <td>6.380823156725169</td>\n      <td>0.074985946080878</td>\n    </tr>\n    <tr>\n      <th>min</th>\n      <td>-199.000000000000000</td>\n      <td>1.209499350700000</td>\n    </tr>\n    <tr>\n      <th>25%</th>\n      <td>2.000000000000000</td>\n      <td>1.274399508825000</td>\n    </tr>\n    <tr>\n      <th>50%</th>\n      <td>5.000000000000000</td>\n      <td>1.339299666950000</td>\n    </tr>\n    <tr>\n      <th>75%</th>\n      <td>7.000000000000000</td>\n      <td>1.404199825075000</td>\n    </tr>\n    <tr>\n      <th>max</th>\n      <td>197.000000000000000</td>\n      <td>1.469099983200000</td>\n    </tr>\n  </tbody>\n</table>\n</div>"
          },
          "metadata": {}
        }
      ]
    },
    {
      "metadata": {
        "trusted": true,
        "_uuid": "205c335bc25856ed2b66491f934653251fbc1f7d"
      },
      "cell_type": "code",
      "source": "train.info()",
      "execution_count": 6,
      "outputs": [
        {
          "output_type": "stream",
          "text": "<class 'pandas.core.frame.DataFrame'>\nRangeIndex: 1000000 entries, 0 to 999999\nData columns (total 2 columns):\nacoustic_data      1000000 non-null int16\ntime_to_failure    1000000 non-null float64\ndtypes: float64(1), int16(1)\nmemory usage: 9.5 MB\n",
          "name": "stdout"
        }
      ]
    },
    {
      "metadata": {
        "trusted": true,
        "_uuid": "deaf83de90f8818a0c8f0c0f5c8f48d83f7d87c8"
      },
      "cell_type": "code",
      "source": "train.shape",
      "execution_count": 8,
      "outputs": [
        {
          "output_type": "execute_result",
          "execution_count": 8,
          "data": {
            "text/plain": "(1000000, 2)"
          },
          "metadata": {}
        }
      ]
    },
    {
      "metadata": {
        "trusted": true,
        "scrolled": true,
        "_uuid": "28568c7e3050919d32c2a3eaa40fbb907da1cad4"
      },
      "cell_type": "code",
      "source": "train.columns",
      "execution_count": 10,
      "outputs": [
        {
          "output_type": "execute_result",
          "execution_count": 10,
          "data": {
            "text/plain": "Index(['acoustic_data', 'time_to_failure'], dtype='object')"
          },
          "metadata": {}
        }
      ]
    },
    {
      "metadata": {
        "trusted": true,
        "_uuid": "1b355b8fd1824f341d7aa2f01f1ac7803fbe73fb"
      },
      "cell_type": "code",
      "source": "train[\"sma\"] = train[\"acoustic_data\"].rolling(window = 5).mean()\ntrain.head(10)",
      "execution_count": 12,
      "outputs": [
        {
          "output_type": "execute_result",
          "execution_count": 12,
          "data": {
            "text/plain": "   acoustic_data  time_to_failure  sma\n0             12     1.4690999832  NaN\n1              6     1.4690999821  NaN\n2              8     1.4690999810  NaN\n3              5     1.4690999799  NaN\n4              8     1.4690999788  7.8\n5              8     1.4690999777  7.0\n6              9     1.4690999766  7.6\n7              7     1.4690999755  7.4\n8             -5     1.4690999744  5.4\n9              3     1.4690999733  4.4",
            "text/html": "<div>\n<style scoped>\n    .dataframe tbody tr th:only-of-type {\n        vertical-align: middle;\n    }\n\n    .dataframe tbody tr th {\n        vertical-align: top;\n    }\n\n    .dataframe thead th {\n        text-align: right;\n    }\n</style>\n<table border=\"1\" class=\"dataframe\">\n  <thead>\n    <tr style=\"text-align: right;\">\n      <th></th>\n      <th>acoustic_data</th>\n      <th>time_to_failure</th>\n      <th>sma</th>\n    </tr>\n  </thead>\n  <tbody>\n    <tr>\n      <th>0</th>\n      <td>12</td>\n      <td>1.4690999832</td>\n      <td>NaN</td>\n    </tr>\n    <tr>\n      <th>1</th>\n      <td>6</td>\n      <td>1.4690999821</td>\n      <td>NaN</td>\n    </tr>\n    <tr>\n      <th>2</th>\n      <td>8</td>\n      <td>1.4690999810</td>\n      <td>NaN</td>\n    </tr>\n    <tr>\n      <th>3</th>\n      <td>5</td>\n      <td>1.4690999799</td>\n      <td>NaN</td>\n    </tr>\n    <tr>\n      <th>4</th>\n      <td>8</td>\n      <td>1.4690999788</td>\n      <td>7.8</td>\n    </tr>\n    <tr>\n      <th>5</th>\n      <td>8</td>\n      <td>1.4690999777</td>\n      <td>7.0</td>\n    </tr>\n    <tr>\n      <th>6</th>\n      <td>9</td>\n      <td>1.4690999766</td>\n      <td>7.6</td>\n    </tr>\n    <tr>\n      <th>7</th>\n      <td>7</td>\n      <td>1.4690999755</td>\n      <td>7.4</td>\n    </tr>\n    <tr>\n      <th>8</th>\n      <td>-5</td>\n      <td>1.4690999744</td>\n      <td>5.4</td>\n    </tr>\n    <tr>\n      <th>9</th>\n      <td>3</td>\n      <td>1.4690999733</td>\n      <td>4.4</td>\n    </tr>\n  </tbody>\n</table>\n</div>"
          },
          "metadata": {}
        }
      ]
    },
    {
      "metadata": {
        "trusted": true,
        "_uuid": "628b3a9b3fc3ede5afce10119295d01466bb23b5"
      },
      "cell_type": "code",
      "source": "train[\"ewma\"] = pd.Series.ewm(train['acoustic_data'], span=5).mean()\ntrain.head(10)",
      "execution_count": 15,
      "outputs": [
        {
          "output_type": "execute_result",
          "execution_count": 15,
          "data": {
            "text/plain": "   acoustic_data  time_to_failure  sma                ewma\n0             12     1.4690999832  NaN  12.000000000000000\n1              6     1.4690999821  NaN   8.400000000000000\n2              8     1.4690999810  NaN   8.210526315789473\n3              5     1.4690999799  NaN   6.876923076923076\n4              8     1.4690999788  7.8   7.308056872037914\n5              8     1.4690999777  7.0   7.560902255639098\n6              9     1.4690999766  7.6   8.070422535211268\n7              7     1.4690999755  7.4   7.699127676447264\n8             -5     1.4690999744  5.4   3.353033227270357\n9              3     1.4690999733  4.4   3.233278759155537",
            "text/html": "<div>\n<style scoped>\n    .dataframe tbody tr th:only-of-type {\n        vertical-align: middle;\n    }\n\n    .dataframe tbody tr th {\n        vertical-align: top;\n    }\n\n    .dataframe thead th {\n        text-align: right;\n    }\n</style>\n<table border=\"1\" class=\"dataframe\">\n  <thead>\n    <tr style=\"text-align: right;\">\n      <th></th>\n      <th>acoustic_data</th>\n      <th>time_to_failure</th>\n      <th>sma</th>\n      <th>ewma</th>\n    </tr>\n  </thead>\n  <tbody>\n    <tr>\n      <th>0</th>\n      <td>12</td>\n      <td>1.4690999832</td>\n      <td>NaN</td>\n      <td>12.000000000000000</td>\n    </tr>\n    <tr>\n      <th>1</th>\n      <td>6</td>\n      <td>1.4690999821</td>\n      <td>NaN</td>\n      <td>8.400000000000000</td>\n    </tr>\n    <tr>\n      <th>2</th>\n      <td>8</td>\n      <td>1.4690999810</td>\n      <td>NaN</td>\n      <td>8.210526315789473</td>\n    </tr>\n    <tr>\n      <th>3</th>\n      <td>5</td>\n      <td>1.4690999799</td>\n      <td>NaN</td>\n      <td>6.876923076923076</td>\n    </tr>\n    <tr>\n      <th>4</th>\n      <td>8</td>\n      <td>1.4690999788</td>\n      <td>7.8</td>\n      <td>7.308056872037914</td>\n    </tr>\n    <tr>\n      <th>5</th>\n      <td>8</td>\n      <td>1.4690999777</td>\n      <td>7.0</td>\n      <td>7.560902255639098</td>\n    </tr>\n    <tr>\n      <th>6</th>\n      <td>9</td>\n      <td>1.4690999766</td>\n      <td>7.6</td>\n      <td>8.070422535211268</td>\n    </tr>\n    <tr>\n      <th>7</th>\n      <td>7</td>\n      <td>1.4690999755</td>\n      <td>7.4</td>\n      <td>7.699127676447264</td>\n    </tr>\n    <tr>\n      <th>8</th>\n      <td>-5</td>\n      <td>1.4690999744</td>\n      <td>5.4</td>\n      <td>3.353033227270357</td>\n    </tr>\n    <tr>\n      <th>9</th>\n      <td>3</td>\n      <td>1.4690999733</td>\n      <td>4.4</td>\n      <td>3.233278759155537</td>\n    </tr>\n  </tbody>\n</table>\n</div>"
          },
          "metadata": {}
        }
      ]
    },
    {
      "metadata": {
        "trusted": true,
        "_uuid": "00aff66a3ab9d47880fc6a004de5ac5c14df6258"
      },
      "cell_type": "code",
      "source": "def modeling_cross_validation(params, X, y, nr_folds=5):\n    clfs = list()\n    oof_preds = np.zeros(X.shape[0])\n    # Split data with kfold\n    kfolds =KFold(n_splits=nr_folds, shuffle=False, random_state=42)\n    for n_fold, (trn_idx, val_idx) in enumerate(kfolds.split(X, y)):\n        X_train, y_train = X.iloc[trn_idx], y.iloc[trn_idx]\n        X_valid, y_valid = X.iloc[val_idx], y.iloc[val_idx]\n\n        print(\"Fold {}\".format(n_fold+1))\n        \n        model = lgb.LGBMRegressor(**params)\n        model.fit(\n            X_train, y_train,\n            eval_set=[(X_valid, y_valid)],\n            verbose=200, eval_metric='mae',\n            early_stopping_rounds=150\n        )\n\n        clfs.append(model)\n        oof_preds[val_idx] = model.predict(X_valid, num_iteration=model.best_iteration_)\n        \n    score = (y, oof_preds)\n    print(score)\n    return clfs, score",
      "execution_count": 23,
      "outputs": []
    },
    {
      "metadata": {
        "trusted": true,
        "_uuid": "b576afb13d6241adb7ee67b4b9d4ef0ff08516ee"
      },
      "cell_type": "code",
      "source": "def predict_cross_validation(test, clfs):\n    sub_preds = np.zeros(test.shape[0])\n    for i, model in enumerate(clfs, 1):    \n        test_preds = model.predict_proba(test, num_iteration=model.best_iteration_)\n        sub_preds += test_preds[:,1]\n\n    sub_preds = sub_preds / len(clfs)\n    ret = pd.Series(sub_preds, index=test.index)\n    ret.index.name = test.index.name\n    return ret\n\n\ndef predict_test_chunk(features, clfs, dtypes, filename='tmp.csv', chunks=100000):\n    \n    for i_c, df in enumerate(pd.read_csv('..test.csv', \n                                         chunksize=chunks, \n                                         dtype=dtypes, \n                                         iterator=True)):\n        \n        df.set_index(TARGET_INDEX, inplace=True)\n\n        preds_df = predict_cross_validation(df[features], clfs)\n        preds_df = preds_df.to_frame(TARGET)\n        \n        print(\"Writing test predictions to file\")\n        \n        if i_c == 0:\n            preds_df.to_csv(filename, header=True, mode='a', index=True)\n        else:\n            preds_df.to_csv(filename, header=False, mode='a', index=True)\n        \n        del preds_df\n        gc.collect()\n        print(\"Grabbin mode tests\")\n    print(\"Done\")",
      "execution_count": 18,
      "outputs": []
    },
    {
      "metadata": {
        "trusted": true,
        "_uuid": "bcb7452040a456a584c8044f87f197334c9a1511"
      },
      "cell_type": "code",
      "source": "params = {'num_leaves': 54,\n         'min_data_in_leaf': 79,\n         'objective': 'regression_l1',\n         'max_depth': 15,\n         'learning_rate': 0.018545526395058548,\n         \"boosting\": \"gbdt\",\n         \"feature_fraction\": 0.8354507676881442,\n         \"bagging_freq\": 3,\n         \"bagging_fraction\": 0.8126672064208567,\n         \"bagging_seed\": 11,\n         \"metric\": 'mae',\n         \"lambda_l1\": 0.1,\n         \"verbosity\": -1,\n         'min_child_weight': 5.343384366323818,\n         'reg_alpha': 1.1302650970728192,\n         'reg_lambda': 0.3603427518866501,\n         'subsample': 0.8767547959893627,\n         'num_iterations' : 2000}",
      "execution_count": 25,
      "outputs": []
    },
    {
      "metadata": {
        "trusted": true,
        "_uuid": "e0bd7a00988f170cbd0c0a363a8d0d5f881eecb1"
      },
      "cell_type": "code",
      "source": "train_features = list()\n\nTARGET = 'time_to_failure'\n\ntrain_features = [f for f in train.columns if f != TARGET]\n    \nclfs, score = modeling_cross_validation(params, train[train_features], train[TARGET], nr_folds=5)",
      "execution_count": 26,
      "outputs": [
        {
          "output_type": "stream",
          "text": "Fold 1\n",
          "name": "stdout"
        },
        {
          "output_type": "stream",
          "text": "/opt/conda/lib/python3.6/site-packages/lightgbm/engine.py:116: UserWarning: Found `num_iterations` in params. Will use it instead of argument\n  warnings.warn(\"Found `{}` in params. Will use it instead of argument\".format(alias))\n",
          "name": "stderr"
        },
        {
          "output_type": "stream",
          "text": "Training until validation scores don't improve for 150 rounds.\n[200]\tvalid_0's l1: 0.129811\n[400]\tvalid_0's l1: 0.129808\nEarly stopping, best iteration is:\n[276]\tvalid_0's l1: 0.129806\nFold 2\n",
          "name": "stdout"
        },
        {
          "output_type": "stream",
          "text": "/opt/conda/lib/python3.6/site-packages/lightgbm/engine.py:116: UserWarning: Found `num_iterations` in params. Will use it instead of argument\n  warnings.warn(\"Found `{}` in params. Will use it instead of argument\".format(alias))\n",
          "name": "stderr"
        },
        {
          "output_type": "stream",
          "text": "Training until validation scores don't improve for 150 rounds.\n[200]\tvalid_0's l1: 0.0778798\nEarly stopping, best iteration is:\n[117]\tvalid_0's l1: 0.0778672\nFold 3\n",
          "name": "stdout"
        },
        {
          "output_type": "stream",
          "text": "/opt/conda/lib/python3.6/site-packages/lightgbm/engine.py:116: UserWarning: Found `num_iterations` in params. Will use it instead of argument\n  warnings.warn(\"Found `{}` in params. Will use it instead of argument\".format(alias))\n",
          "name": "stderr"
        },
        {
          "output_type": "stream",
          "text": "Training until validation scores don't improve for 150 rounds.\nEarly stopping, best iteration is:\n[40]\tvalid_0's l1: 0.0208845\nFold 4\n",
          "name": "stdout"
        },
        {
          "output_type": "stream",
          "text": "/opt/conda/lib/python3.6/site-packages/lightgbm/engine.py:116: UserWarning: Found `num_iterations` in params. Will use it instead of argument\n  warnings.warn(\"Found `{}` in params. Will use it instead of argument\".format(alias))\n",
          "name": "stderr"
        },
        {
          "output_type": "stream",
          "text": "Training until validation scores don't improve for 150 rounds.\n[200]\tvalid_0's l1: 0.0780595\nEarly stopping, best iteration is:\n[75]\tvalid_0's l1: 0.0780409\nFold 5\n",
          "name": "stdout"
        },
        {
          "output_type": "stream",
          "text": "/opt/conda/lib/python3.6/site-packages/lightgbm/engine.py:116: UserWarning: Found `num_iterations` in params. Will use it instead of argument\n  warnings.warn(\"Found `{}` in params. Will use it instead of argument\".format(alias))\n",
          "name": "stderr"
        },
        {
          "output_type": "stream",
          "text": "Training until validation scores don't improve for 150 rounds.\nEarly stopping, best iteration is:\n[2]\tvalid_0's l1: 0.130012\n(0         1.4690999832\n1         1.4690999821\n2         1.4690999810\n3         1.4690999799\n4         1.4690999788\n5         1.4690999777\n6         1.4690999766\n7         1.4690999755\n8         1.4690999744\n9         1.4690999733\n10        1.4690999722\n11        1.4690999711\n12        1.4690999700\n13        1.4690999689\n14        1.4690999678\n15        1.4690999667\n16        1.4690999656\n17        1.4690999645\n18        1.4690999634\n19        1.4690999623\n20        1.4690999612\n21        1.4690999601\n22        1.4690999590\n23        1.4690999579\n24        1.4690999568\n25        1.4690999557\n26        1.4690999546\n27        1.4690999535\n28        1.4690999524\n29        1.4690999513\n              ...     \n999970    1.2094993826\n999971    1.2094993815\n999972    1.2094993804\n999973    1.2094993793\n999974    1.2094993782\n999975    1.2094993771\n999976    1.2094993760\n999977    1.2094993749\n999978    1.2094993738\n999979    1.2094993727\n999980    1.2094993716\n999981    1.2094993705\n999982    1.2094993694\n999983    1.2094993683\n999984    1.2094993672\n999985    1.2094993661\n999986    1.2094993650\n999987    1.2094993639\n999988    1.2094993628\n999989    1.2094993617\n999990    1.2094993606\n999991    1.2094993595\n999992    1.2094993584\n999993    1.2094993573\n999994    1.2094993562\n999995    1.2094993551\n999996    1.2094993540\n999997    1.2094993529\n999998    1.2094993518\n999999    1.2094993507\nName: time_to_failure, Length: 1000000, dtype: float64, array([1.32616114, 1.32695573, 1.3278086 , ..., 1.3658377 , 1.36585771,\n       1.36589669]))\n",
          "name": "stdout"
        }
      ]
    },
    {
      "metadata": {
        "_uuid": "d4c20448f064519431f0b2485e015fbe08dfd07e"
      },
      "cell_type": "markdown",
      "source": "Test Code below"
    },
    {
      "metadata": {
        "trusted": true,
        "_uuid": "2eb6c30cd8ab7a458dc9566d0c5f2d47233f5fa9"
      },
      "cell_type": "code",
      "source": "def sma (x, N):\n    cumsum = np.cumsum(np.insert(x, 0, 0)) \n    temp = (cumsum[N:] - cumsum[:-N]) / float(N)\n    result = np.zeros(len(x) - len(temp))\n    result = np.concatenate((result, temp))\n    #result = np.reshape(result, (len(result),1))\n    return result",
      "execution_count": 90,
      "outputs": []
    },
    {
      "metadata": {
        "trusted": true,
        "_uuid": "2c128ad56041685a66d9db081034e8b23806e950"
      },
      "cell_type": "code",
      "source": "def preprocess(seg_id):\n    test = pd.read_csv('../input/test/' + seg_id + '.csv')\n\n    test[\"sma\"] = test[\"acoustic_data\"].rolling(window = 5).mean()\n    test['ewma'] = pd.Series.ewm(test[\"acoustic_data\"], span=5).mean()\n    test[\"seg_id\"] = [seg_id] * test.shape[0]\n    \n    return test\n    ",
      "execution_count": 102,
      "outputs": []
    },
    {
      "metadata": {
        "trusted": true,
        "_uuid": "03d4d292ff59f8d084368572ece259dc00ce1671"
      },
      "cell_type": "code",
      "source": "submission = pd.read_csv('../input/sample_submission.csv', index_col='seg_id')\nindex = pd.DataFrame(columns=train.columns, dtype=np.float64, index=submission.index)\nX_test = None\nidx = 0\nfor seg_id in tqdm_notebook(index.index):\n    if idx == 0:\n        X_test = preprocess(seg_id)\n    else:\n        _ = preprocess(seg_id)\n        frames = [X_test, _]\n        X_test = pd.concat(frames)\n        idx = 1\nX_test = X_test.set_index(\"seg_id\")",
      "execution_count": 103,
      "outputs": [
        {
          "output_type": "display_data",
          "data": {
            "text/plain": "HBox(children=(IntProgress(value=0, max=2624), HTML(value='')))",
            "application/vnd.jupyter.widget-view+json": {
              "version_major": 2,
              "version_minor": 0,
              "model_id": "1bb93fc26b41445c8f696edf042ceb00"
            }
          },
          "metadata": {}
        }
      ]
    },
    {
      "metadata": {
        "trusted": true,
        "_uuid": "a0b2f28bbc57384a773e3d127be66b3173c8d645"
      },
      "cell_type": "code",
      "source": "X_test.head()",
      "execution_count": 104,
      "outputs": [
        {
          "output_type": "execute_result",
          "execution_count": 104,
          "data": {
            "text/plain": "            acoustic_data  sma               ewma\nseg_id                                           \nseg_ffe7cc              6  NaN  6.000000000000000\nseg_ffe7cc              5  NaN  5.399999999999999\nseg_ffe7cc              5  NaN  5.210526315789473\nseg_ffe7cc              3  NaN  4.292307692307691\nseg_ffe7cc              1  4.0  3.028436018957346",
            "text/html": "<div>\n<style scoped>\n    .dataframe tbody tr th:only-of-type {\n        vertical-align: middle;\n    }\n\n    .dataframe tbody tr th {\n        vertical-align: top;\n    }\n\n    .dataframe thead th {\n        text-align: right;\n    }\n</style>\n<table border=\"1\" class=\"dataframe\">\n  <thead>\n    <tr style=\"text-align: right;\">\n      <th></th>\n      <th>acoustic_data</th>\n      <th>sma</th>\n      <th>ewma</th>\n    </tr>\n    <tr>\n      <th>seg_id</th>\n      <th></th>\n      <th></th>\n      <th></th>\n    </tr>\n  </thead>\n  <tbody>\n    <tr>\n      <th>seg_ffe7cc</th>\n      <td>6</td>\n      <td>NaN</td>\n      <td>6.000000000000000</td>\n    </tr>\n    <tr>\n      <th>seg_ffe7cc</th>\n      <td>5</td>\n      <td>NaN</td>\n      <td>5.399999999999999</td>\n    </tr>\n    <tr>\n      <th>seg_ffe7cc</th>\n      <td>5</td>\n      <td>NaN</td>\n      <td>5.210526315789473</td>\n    </tr>\n    <tr>\n      <th>seg_ffe7cc</th>\n      <td>3</td>\n      <td>NaN</td>\n      <td>4.292307692307691</td>\n    </tr>\n    <tr>\n      <th>seg_ffe7cc</th>\n      <td>1</td>\n      <td>4.0</td>\n      <td>3.028436018957346</td>\n    </tr>\n  </tbody>\n</table>\n</div>"
          },
          "metadata": {}
        }
      ]
    },
    {
      "metadata": {
        "trusted": true,
        "_uuid": "c0542edfc548647f733c43709854691ab405195b"
      },
      "cell_type": "code",
      "source": "def train_model(X=train[train_features], X_test=X_test, y=train[TARGET], params=None, model_type='lgb', plot_feature_importance=False):\n    \n    n_fold = 5\n    folds = KFold(n_splits=n_fold, shuffle=True, random_state=11)\n    oof = np.zeros(len(X))\n    prediction = np.zeros(len(X_test))\n    scores = []\n    feature_importance = pd.DataFrame()\n    for fold_n, (train_index, valid_index) in enumerate(folds.split(X)):\n        print('Fold', fold_n, 'started at', time.ctime())\n        X_train, X_valid = X.iloc[train_index], X.iloc[valid_index]\n        y_train, y_valid = y.iloc[train_index], y.iloc[valid_index]\n        \n        if model_type == 'lgb':\n            model = lgb.LGBMRegressor(**params, n_estimators = 20000, nthread = 4, n_jobs = -1)\n            model.fit(X_train, y_train, \n                    eval_set=[(X_train, y_train), (X_valid, y_valid)], eval_metric='mae',\n                    verbose=1000, early_stopping_rounds=200)\n            \n            y_pred_valid = model.predict(X_valid)\n            print(X_test.head())\n            print(train.head())\n            \n            y_pred = model.predict(X_test, num_iteration=model.best_iteration_)\n            \n        \n        oof[valid_index] = y_pred_valid.reshape(-1,)\n        scores.append(mean_absolute_error(y_valid, y_pred_valid) ** 0.5)\n        \n        prediction += y_pred    \n        \n        if model_type == 'lgb':\n            # feature importance\n            fold_importance = pd.DataFrame()\n            fold_importance[\"feature\"] = X.columns\n            fold_importance[\"importance\"] = model.feature_importances_\n            fold_importance[\"fold\"] = fold_n + 1\n            feature_importance = pd.concat([feature_importance, fold_importance], axis=0)\n\n    prediction /= n_fold\n    \n    print('CV mean score: {0:.4f}, std: {1:.4f}.'.format(np.mean(scores), np.std(scores)))\n    \n    if model_type == 'lgb':\n        feature_importance[\"importance\"] /= n_fold\n        if plot_feature_importance:\n            cols = feature_importance[[\"feature\", \"importance\"]].groupby(\"feature\").mean().sort_values(\n                by=\"importance\", ascending=False)[:50].index\n\n            best_features = feature_importance.loc[feature_importance.feature.isin(cols)]\n\n            plt.figure(figsize=(16, 12));\n            sns.barplot(x=\"importance\", y=\"feature\", data=best_features.sort_values(by=\"importance\", ascending=False));\n            plt.title('LGB Features (avg over folds)');\n        \n            return oof, prediction, feature_importance\n        return oof, prediction\n    \n    else:\n        return oof, prediction",
      "execution_count": 105,
      "outputs": []
    },
    {
      "metadata": {
        "trusted": true,
        "_uuid": "af17706359721d7ffb688e86ec4e624df08e6852"
      },
      "cell_type": "code",
      "source": "oof_lgb, prediction_lgb, feature_importance = train_model(params=params, model_type='lgb', plot_feature_importance=True)",
      "execution_count": null,
      "outputs": [
        {
          "output_type": "stream",
          "text": "Fold 0 started at Sat Jan 12 01:15:21 2019\n",
          "name": "stdout"
        },
        {
          "output_type": "stream",
          "text": "/opt/conda/lib/python3.6/site-packages/lightgbm/engine.py:116: UserWarning: Found `num_iterations` in params. Will use it instead of argument\n  warnings.warn(\"Found `{}` in params. Will use it instead of argument\".format(alias))\n",
          "name": "stderr"
        }
      ]
    },
    {
      "metadata": {
        "trusted": true,
        "_uuid": "d892cce93d96c2a67759a2c503b0a22f81fc86aa"
      },
      "cell_type": "code",
      "source": "submission['time_to_failure'] = prediction_lgb\nprint(submission.head())\nsubmission.to_csv('submission.csv')",
      "execution_count": null,
      "outputs": []
    }
  ],
  "metadata": {
    "kernelspec": {
      "display_name": "Python 3",
      "language": "python",
      "name": "python3"
    },
    "language_info": {
      "name": "python",
      "version": "3.6.6",
      "mimetype": "text/x-python",
      "codemirror_mode": {
        "name": "ipython",
        "version": 3
      },
      "pygments_lexer": "ipython3",
      "nbconvert_exporter": "python",
      "file_extension": ".py"
    }
  },
  "nbformat": 4,
  "nbformat_minor": 1
}