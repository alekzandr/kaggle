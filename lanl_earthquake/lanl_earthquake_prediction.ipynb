{
  "cells": [
    {
      "metadata": {
        "_uuid": "8f2839f25d086af736a60e9eeb907d3b93b6e0e5",
        "_cell_guid": "b1076dfc-b9ad-4769-8c92-a6c4dae69d19",
        "trusted": true
      },
      "cell_type": "code",
      "source": "import numpy as np\nimport pandas as pd\nimport os\n\nimport matplotlib.pyplot as plt\n%matplotlib inline\nfrom tqdm import tqdm_notebook\nfrom sklearn.preprocessing import StandardScaler\nfrom sklearn.svm import NuSVR\nfrom sklearn.metrics import mean_absolute_error\npd.options.display.precision = 15\n\nimport lightgbm as lgb\nimport xgboost as xgb\nimport time\nimport datetime\n\nfrom sklearn.preprocessing import LabelEncoder\nfrom sklearn.model_selection import StratifiedKFold, KFold, RepeatedKFold\nfrom sklearn.metrics import mean_squared_error, mean_absolute_error\nfrom sklearn.linear_model import Ridge, RidgeCV\nimport gc\nfrom catboost import CatBoostRegressor\nimport seaborn as sns",
      "execution_count": 1,
      "outputs": []
    },
    {
      "metadata": {
        "trusted": true,
        "_uuid": "b2a2174da5befb22d21a3abb2b0e5861001e8cc4"
      },
      "cell_type": "code",
      "source": "def preprocess_train(seg_id, train):\n    d = {'sma_10' : [0],\n         'ewma_10' : [0],\n         'ave' : [0],\n         'std' : [0],\n         'max' : [0],\n         'min' : [0],\n         'time_to_failure' : [0]}\n    result = pd.DataFrame(d, dtype=np.float64)\n    \n    x = train[\"acoustic_data\"].values\n    \n    train[\"sma_3\"] = train[\"acoustic_data\"].rolling(window = 3).mean()\n    train['ewma_3'] = pd.Series.ewm(train[\"acoustic_data\"], span=3).mean()\n    train[\"sma_5\"] = train[\"acoustic_data\"].rolling(window = 5).mean()\n    train['ewma_5'] = pd.Series.ewm(train[\"acoustic_data\"], span=5).mean()\n    train[\"sma_10\"] = train[\"acoustic_data\"].rolling(window = 10).mean()\n    train['ewma_10'] = pd.Series.ewm(train[\"acoustic_data\"], span=10).mean()\n    train[\"sma_50\"] = train[\"acoustic_data\"].rolling(window = 50).mean()\n    train['ewma_50'] = pd.Series.ewm(train[\"acoustic_data\"], span=50).mean()\n    train[\"sma_100\"] = train[\"acoustic_data\"].rolling(window = 100).mean()\n    train['ewma_100'] = pd.Series.ewm(train[\"acoustic_data\"], span=100).mean()\n    \n    result['time_to_failure'] = train[\"time_to_failure\"].values[-1]\n    result[\"seg_id\"] = seg_id\n    result[\"ewma_3\"] = train[\"ewma_3\"].mean()\n    result[\"sma_3\"] = train[\"sma_3\"].mean()\n    result[\"ewma_5\"] = train[\"ewma_5\"].mean()\n    result[\"sma_5\"] = train[\"sma_5\"].mean()\n    result[\"ewma_10\"] = train[\"ewma_10\"].mean()\n    result[\"sma_10\"] = train[\"sma_10\"].mean()\n    result[\"ewma_50\"] = train[\"ewma_50\"].mean()\n    result[\"sma_50\"] = train[\"sma_50\"].mean()\n    result[\"ewma_100\"] = train[\"ewma_100\"].mean()\n    result[\"sma_100\"] = train[\"sma_100\"].mean()\n    result['ave'] = x.mean()\n    result['std'] = x.std()\n    result['max'] = x.max()\n    result['min'] = x.min()\n    result['q01'] = np.quantile(x,0.01)\n    result['q05'] = np.quantile(x,0.05)\n    result['q95'] = np.quantile(x,0.95)\n    result['q99'] = np.quantile(x,0.99)\n    \n\n    return result",
      "execution_count": 27,
      "outputs": []
    },
    {
      "metadata": {
        "trusted": true,
        "_uuid": "b24124001fad9a4154617ecf6f22b465a8fc9239"
      },
      "cell_type": "code",
      "source": "frames = []\nrows = 150_000\nsegments = 1\n#train = pd.read_csv('../input/train.csv', dtype={'acoustic_data': np.int16, 'time_to_failure': np.float64})\n\nfor df in pd.read_csv('../input/train.csv', chunksize=rows, dtype={'acoustic_data': np.int16, 'time_to_failure': np.float64}):\n    _ = preprocess_train(segments, df)\n    frames.append(_)\n    segments += 1\n\nX_train = pd.concat(frames)\nX_train = X_train.set_index(\"seg_id\")",
      "execution_count": 28,
      "outputs": []
    },
    {
      "metadata": {
        "trusted": true,
        "_uuid": "2b4da04b4d1f6636242bdd1b9efb92811d0d4a90"
      },
      "cell_type": "code",
      "source": "X_train.head()",
      "execution_count": 29,
      "outputs": [
        {
          "output_type": "execute_result",
          "execution_count": 29,
          "data": {
            "text/plain": "                   sma_10            ewma_10  ...    q95   q99\nseg_id                                        ...             \n1       4.884088378635989  4.884241616265863  ...   11.0  18.0\n2       4.725731543892671  4.725763269986679  ...   12.0  21.0\n3       4.906229040409174  4.906390489500286  ...   13.0  26.0\n4       4.902290804114878  4.902126943248564  ...   12.0  22.0\n5       4.908727857004753  4.908785382625916  ...   12.0  26.0\n\n[5 rows x 19 columns]",
            "text/html": "<div>\n<style scoped>\n    .dataframe tbody tr th:only-of-type {\n        vertical-align: middle;\n    }\n\n    .dataframe tbody tr th {\n        vertical-align: top;\n    }\n\n    .dataframe thead th {\n        text-align: right;\n    }\n</style>\n<table border=\"1\" class=\"dataframe\">\n  <thead>\n    <tr style=\"text-align: right;\">\n      <th></th>\n      <th>sma_10</th>\n      <th>ewma_10</th>\n      <th>ave</th>\n      <th>std</th>\n      <th>max</th>\n      <th>min</th>\n      <th>time_to_failure</th>\n      <th>ewma_3</th>\n      <th>sma_3</th>\n      <th>ewma_5</th>\n      <th>sma_5</th>\n      <th>ewma_50</th>\n      <th>sma_50</th>\n      <th>ewma_100</th>\n      <th>sma_100</th>\n      <th>q01</th>\n      <th>q05</th>\n      <th>q95</th>\n      <th>q99</th>\n    </tr>\n    <tr>\n      <th>seg_id</th>\n      <th></th>\n      <th></th>\n      <th></th>\n      <th></th>\n      <th></th>\n      <th></th>\n      <th></th>\n      <th></th>\n      <th></th>\n      <th></th>\n      <th></th>\n      <th></th>\n      <th></th>\n      <th></th>\n      <th></th>\n      <th></th>\n      <th></th>\n      <th></th>\n      <th></th>\n    </tr>\n  </thead>\n  <tbody>\n    <tr>\n      <th>1</th>\n      <td>4.884088378635989</td>\n      <td>4.884241616265863</td>\n      <td>4.884113333333334</td>\n      <td>5.101089126891323</td>\n      <td>104</td>\n      <td>-98</td>\n      <td>1.4307971859</td>\n      <td>4.884167462435380</td>\n      <td>4.884107343653485</td>\n      <td>4.884201080817154</td>\n      <td>4.884095575881966</td>\n      <td>4.884270544770727</td>\n      <td>4.883969296636922</td>\n      <td>4.884335546276895</td>\n      <td>4.883863549942990</td>\n      <td>-8.0</td>\n      <td>-2.0</td>\n      <td>11.0</td>\n      <td>18.0</td>\n    </tr>\n    <tr>\n      <th>2</th>\n      <td>4.725731543892671</td>\n      <td>4.725763269986679</td>\n      <td>4.725766666666667</td>\n      <td>6.588801819164257</td>\n      <td>181</td>\n      <td>-154</td>\n      <td>1.3914988931</td>\n      <td>4.725763863125676</td>\n      <td>4.725756343417870</td>\n      <td>4.725760922746515</td>\n      <td>4.725730019467171</td>\n      <td>4.725809832481752</td>\n      <td>4.725729338250502</td>\n      <td>4.725842751947517</td>\n      <td>4.725623311385454</td>\n      <td>-11.0</td>\n      <td>-2.0</td>\n      <td>12.0</td>\n      <td>21.0</td>\n    </tr>\n    <tr>\n      <th>3</th>\n      <td>4.906229040409174</td>\n      <td>4.906390489500286</td>\n      <td>4.906393333333333</td>\n      <td>6.967373808828945</td>\n      <td>140</td>\n      <td>-106</td>\n      <td>1.3531960947</td>\n      <td>4.906395764152028</td>\n      <td>4.906394307479615</td>\n      <td>4.906392510202864</td>\n      <td>4.906374836662358</td>\n      <td>4.906429776004419</td>\n      <td>4.906072250268403</td>\n      <td>4.906416869434004</td>\n      <td>4.906088151513369</td>\n      <td>-15.0</td>\n      <td>-3.0</td>\n      <td>13.0</td>\n      <td>26.0</td>\n    </tr>\n    <tr>\n      <th>4</th>\n      <td>4.902290804114878</td>\n      <td>4.902126943248564</td>\n      <td>4.902240000000000</td>\n      <td>6.922282112791032</td>\n      <td>197</td>\n      <td>-199</td>\n      <td>1.3137978019</td>\n      <td>4.902213081352357</td>\n      <td>4.902254252278854</td>\n      <td>4.902180699534021</td>\n      <td>4.902297394597307</td>\n      <td>4.902043049787403</td>\n      <td>4.902059206007244</td>\n      <td>4.902052266336941</td>\n      <td>4.901946217837145</td>\n      <td>-12.0</td>\n      <td>-2.0</td>\n      <td>12.0</td>\n      <td>22.0</td>\n    </tr>\n    <tr>\n      <th>5</th>\n      <td>4.908727857004753</td>\n      <td>4.908785382625916</td>\n      <td>4.908720000000000</td>\n      <td>7.301085852684289</td>\n      <td>145</td>\n      <td>-126</td>\n      <td>1.2743995091</td>\n      <td>4.908729341458675</td>\n      <td>4.908658782117159</td>\n      <td>4.908744462593931</td>\n      <td>4.908658897570609</td>\n      <td>4.908880179258194</td>\n      <td>4.908957859567479</td>\n      <td>4.908872987383111</td>\n      <td>4.909174788693883</td>\n      <td>-15.0</td>\n      <td>-2.0</td>\n      <td>12.0</td>\n      <td>26.0</td>\n    </tr>\n  </tbody>\n</table>\n</div>"
          },
          "metadata": {}
        }
      ]
    },
    {
      "metadata": {
        "trusted": true,
        "_uuid": "870b77d4512da2a2e58546513ae53fefdc354291"
      },
      "cell_type": "code",
      "source": "X_train.shape",
      "execution_count": 30,
      "outputs": [
        {
          "output_type": "execute_result",
          "execution_count": 30,
          "data": {
            "text/plain": "(4195, 19)"
          },
          "metadata": {}
        }
      ]
    },
    {
      "metadata": {
        "trusted": true,
        "_uuid": "6a301a98340015b7dd6a4cc9aa05185b75fd779a"
      },
      "cell_type": "code",
      "source": "params = {'num_leaves': 54,\n          'min_data_in_leaf': 79,\n          'objective': 'huber',\n          'max_depth': -1,\n          'learning_rate': 0.01,\n          \"boosting\": \"gbdt\",\n          \"bagging_freq\": 3,\n          \"bagging_fraction\": 0.8126672064208567,\n          \"bagging_seed\": 11,\n          \"metric\": 'mae',\n          \"verbosity\": -1,\n          'reg_alpha': 1.1302650970728192,\n          'reg_lambda': 0.3603427518866501,\n          'num_iterations' : 5000}",
      "execution_count": 32,
      "outputs": []
    },
    {
      "metadata": {
        "trusted": true,
        "_uuid": "dac2234c7bac4e9189b90c515dc6b6f327337b7e"
      },
      "cell_type": "code",
      "source": "train_features = list()\nTARGET = 'time_to_failure'\ntrain_features = [f for f in X_train.columns if f != TARGET]",
      "execution_count": 33,
      "outputs": []
    },
    {
      "metadata": {
        "trusted": true,
        "_uuid": "a198ee9a42da1db5d7c816b45f7877fce30c3fa4"
      },
      "cell_type": "code",
      "source": "def sma (x, N):\n    cumsum = np.cumsum(np.insert(x, 0, 0)) \n    temp = (cumsum[N:] - cumsum[:-N]) / float(N)\n    result = np.zeros(len(x) - len(temp))\n    result = np.concatenate((result, temp))\n    #result = np.reshape(result, (len(result),1))\n    return result",
      "execution_count": 34,
      "outputs": []
    },
    {
      "metadata": {
        "trusted": true,
        "_uuid": "b73db78f2c9ec92f3fbc17d356924a45c9b73441"
      },
      "cell_type": "code",
      "source": "def preprocess(seg_id):\n    d = {'sma_10' : [0],\n         'ewma_10' : [0],\n         'ave' : [0],\n         'std' : [0],\n         'max' : [0],\n         'min' : [0]}\n    test = pd.read_csv('../input/test/' + seg_id + '.csv')\n    \n    x = test[\"acoustic_data\"].values\n    \n    test[\"sma_3\"] = test[\"acoustic_data\"].rolling(window = 3).mean()\n    test['ewma_3'] = pd.Series.ewm(test[\"acoustic_data\"], span=3).mean()\n    test[\"sma_5\"] = test[\"acoustic_data\"].rolling(window = 5).mean()\n    test['ewma_5'] = pd.Series.ewm(test[\"acoustic_data\"], span=5).mean()\n    test[\"sma_10\"] = test[\"acoustic_data\"].rolling(window = 10).mean()\n    test['ewma_10'] = pd.Series.ewm(test[\"acoustic_data\"], span=10).mean()\n    test[\"sma_50\"] = test[\"acoustic_data\"].rolling(window = 50).mean()\n    test['ewma_50'] = pd.Series.ewm(test[\"acoustic_data\"], span=50).mean()\n    test[\"sma_100\"] = test[\"acoustic_data\"].rolling(window = 100).mean()\n    test['ewma_100'] = pd.Series.ewm(test[\"acoustic_data\"], span=100).mean()\n    \n    \n    result = pd.DataFrame(d, dtype=np.float64)\n    result[\"seg_id\"] = seg_id\n    result[\"sma_3\"] = test[\"sma_3\"].mean()\n    result[\"ewma_3\"] = test[\"ewma_3\"].mean()\n    result[\"sma_5\"] = test[\"sma_5\"].mean()\n    result[\"ewma_5\"] = test[\"ewma_5\"].mean()\n    result[\"sma_10\"] = test[\"sma_10\"].mean()\n    result[\"ewma_10\"] = test[\"ewma_10\"].mean()\n    result[\"sma_50\"] = test[\"sma_50\"].mean()\n    result[\"ewma_50\"] = test[\"ewma_50\"].mean()\n    result[\"sma_100\"] = test[\"sma_100\"].mean()\n    result[\"ewma_100\"] = test[\"ewma_100\"].mean()\n    result['ave'] = x.mean()\n    result['std'] = x.std()\n    result['max'] = x.max()\n    result['min'] = x.min()\n    result['q01'] = np.quantile(x,0.01)\n    result['q05'] = np.quantile(x,0.05)\n    result['q95'] = np.quantile(x,0.95)\n    result['q99'] = np.quantile(x,0.99)\n    \n    return result\n    ",
      "execution_count": 35,
      "outputs": []
    },
    {
      "metadata": {
        "trusted": true,
        "_uuid": "78f54b2de79111c09340044caffb5322d875cc33"
      },
      "cell_type": "code",
      "source": "submission = pd.read_csv('../input/sample_submission.csv', index_col='seg_id')\nindex = pd.DataFrame(columns=X_train.columns, dtype=np.float64, index=submission.index)\nframes = []\nfor seg_id in tqdm_notebook(index.index):\n        _ = preprocess(seg_id)\n        frames.append(_)\nX_test = pd.concat(frames)\nX_test = X_test.set_index(\"seg_id\")",
      "execution_count": 36,
      "outputs": [
        {
          "output_type": "display_data",
          "data": {
            "text/plain": "HBox(children=(IntProgress(value=0, max=2624), HTML(value='')))",
            "application/vnd.jupyter.widget-view+json": {
              "version_major": 2,
              "version_minor": 0,
              "model_id": "1a1ffe4fa1f3406c9900055776ec462d"
            }
          },
          "metadata": {}
        },
        {
          "output_type": "stream",
          "text": "\n",
          "name": "stdout"
        }
      ]
    },
    {
      "metadata": {
        "trusted": true,
        "_uuid": "c829c47e85d620ca9214af54d9c24a40328f7aa5"
      },
      "cell_type": "code",
      "source": "print(X_test.columns)\nprint(X_train.columns)",
      "execution_count": 37,
      "outputs": [
        {
          "output_type": "stream",
          "text": "Index(['sma_10', 'ewma_10', 'ave', 'std', 'max', 'min', 'sma_3', 'ewma_3',\n       'sma_5', 'ewma_5', 'sma_50', 'ewma_50', 'sma_100', 'ewma_100', 'q01',\n       'q05', 'q95', 'q99'],\n      dtype='object')\nIndex(['sma_10', 'ewma_10', 'ave', 'std', 'max', 'min', 'time_to_failure',\n       'ewma_3', 'sma_3', 'ewma_5', 'sma_5', 'ewma_50', 'sma_50', 'ewma_100',\n       'sma_100', 'q01', 'q05', 'q95', 'q99'],\n      dtype='object')\n",
          "name": "stdout"
        }
      ]
    },
    {
      "metadata": {
        "trusted": true,
        "scrolled": true,
        "_uuid": "c6bce389273c75fec9fadebe1e5f5286f4206a32"
      },
      "cell_type": "code",
      "source": "print(X_test.head(10))\nprint(X_train.head(10))",
      "execution_count": 38,
      "outputs": [
        {
          "output_type": "stream",
          "text": "                       sma_10            ewma_10  ...    q95   q99\nseg_id                                            ...             \nseg_00030f  4.491922848704198  4.491684314669440  ...   11.0  18.0\nseg_0012b5  4.171169603509576  4.171217794543344  ...   11.0  20.0\nseg_00184e  4.610255281983631  4.610334498190113  ...   11.0  20.0\nseg_003339  4.531453887233320  4.531458551336902  ...   10.0  14.0\nseg_0042cc  4.128355701342070  4.128344913932700  ...   10.0  19.0\nseg_004314  4.148557580121454  4.148675666789552  ...   20.0  58.0\nseg_004cd2  4.114267522717971  4.114147240723185  ...   10.0  15.0\nseg_004ee5  4.328192358208076  4.328338470344701  ...   12.0  21.0\nseg_004f1f  4.000696708469206  4.000707087581792  ...   11.0  20.0\nseg_00648a  4.459079544772641  4.458783299047529  ...   12.0  26.0\n\n[10 rows x 18 columns]\n                   sma_10            ewma_10  ...    q95   q99\nseg_id                                        ...             \n1       4.884088378635989  4.884241616265863  ...   11.0  18.0\n2       4.725731543892671  4.725763269986679  ...   12.0  21.0\n3       4.906229040409174  4.906390489500286  ...   13.0  26.0\n4       4.902290804114878  4.902126943248564  ...   12.0  22.0\n5       4.908727857004753  4.908785382625916  ...   12.0  26.0\n6       4.913448140221695  4.913593326916537  ...   12.0  19.0\n7       4.855688674653822  4.855593764212390  ...   12.0  21.0\n8       4.505488329299757  4.505402303543063  ...   11.0  20.0\n9       4.717976411918064  4.717793693202297  ...   13.0  26.0\n10      4.730901187404537  4.730985770846271  ...   12.0  23.0\n\n[10 rows x 19 columns]\n",
          "name": "stdout"
        }
      ]
    },
    {
      "metadata": {
        "trusted": true,
        "_uuid": "8f1e0bf010187672737aed72784b1b4d32ce47c0",
        "scrolled": true
      },
      "cell_type": "code",
      "source": "def train_model(X=X_train[train_features], X_test=X_test, y=X_train[TARGET], params=None, model_type='lgb', plot_feature_importance=False):\n    \n    n_fold = 5\n    folds = KFold(n_splits=n_fold, shuffle=True, random_state=11)\n    oof = np.zeros(len(X))\n    prediction = np.zeros(len(X_test))\n    scores = []\n    feature_importance = pd.DataFrame()\n    for fold_n, (train_index, valid_index) in enumerate(folds.split(X)):\n        print('Fold', fold_n, 'started at', time.ctime())\n        X_train, X_valid = X.iloc[train_index], X.iloc[valid_index]\n        y_train, y_valid = y.iloc[train_index], y.iloc[valid_index]\n        \n        if model_type == 'lgb':\n            model = lgb.LGBMRegressor(**params, n_estimators = 20000, nthread = 4, n_jobs = -1)\n            model.fit(X_train, y_train, \n                    eval_set=[(X_train, y_train), (X_valid, y_valid)], eval_metric='mae',\n                    verbose=1000, early_stopping_rounds=200)\n            \n            y_pred_valid = model.predict(X_valid)\n            #print(X_test.head())\n            #print(train.head())\n            \n            y_pred = model.predict(X_test, num_iteration=model.best_iteration_)\n           \n        if model_type == 'svr':\n            scaler = StandardScaler()\n            scaled_train = scaler.fit_transform(X)\n            scaled_valid = scaler.transform(X_valid)\n            scaled_test = scaler.transform(X_test)\n            \n            \n            svm1 = NuSVR(nu=0.6, C=1.3, kernel='rbf', gamma=10, tol=0.01)\n            svm1.fit(scaled_train, y)\n            \n            y_pred_valid = svm1.predict(scaled_valid).reshape(-1,)\n            score = mean_absolute_error(y_valid, y_pred_valid)\n            print(f'Fold {fold_n}. MAE: {score:.4f}.')\n            print('')\n            \n            y_pred = svm1.predict(scaled_test).reshape(-1,)\n        \n        oof[valid_index] = y_pred_valid.reshape(-1,)\n        scores.append(mean_absolute_error(y_valid, y_pred_valid) ** 0.5)\n        \n        prediction += y_pred    \n        \n        if model_type == 'lgb':\n            # feature importance\n            fold_importance = pd.DataFrame()\n            fold_importance[\"feature\"] = X.columns\n            fold_importance[\"importance\"] = model.feature_importances_\n            fold_importance[\"fold\"] = fold_n + 1\n            feature_importance = pd.concat([feature_importance, fold_importance], axis=0)\n\n    prediction /= n_fold\n    \n    print('CV mean score: {0:.4f}, std: {1:.4f}.'.format(np.mean(scores), np.std(scores)))\n    \n    if model_type == 'lgb':\n        feature_importance[\"importance\"] /= n_fold\n        if plot_feature_importance:\n            cols = feature_importance[[\"feature\", \"importance\"]].groupby(\"feature\").mean().sort_values(\n                by=\"importance\", ascending=False)[:50].index\n\n            best_features = feature_importance.loc[feature_importance.feature.isin(cols)]\n\n            plt.figure(figsize=(16, 12));\n            sns.barplot(x=\"importance\", y=\"feature\", data=best_features.sort_values(by=\"importance\", ascending=False));\n            plt.title('LGB Features (avg over folds)');\n        \n            return oof, prediction, feature_importance\n        return oof, prediction\n    \n    else:\n        return oof, prediction",
      "execution_count": 39,
      "outputs": []
    },
    {
      "metadata": {
        "trusted": true,
        "_uuid": "200de123c4a214c08c6c59f2530d0e7611c24e2b"
      },
      "cell_type": "code",
      "source": "oof_lgb, prediction_svr, = train_model(params=None, model_type='svr')\noof_lgb, prediction_lgb, feature_importance = train_model(params=params, model_type='lgb', plot_feature_importance=True)",
      "execution_count": 40,
      "outputs": [
        {
          "output_type": "stream",
          "text": "Fold 0 started at Mon Jan 14 20:25:20 2019\n",
          "name": "stdout"
        },
        {
          "output_type": "stream",
          "text": "/opt/conda/lib/python3.6/site-packages/sklearn/preprocessing/data.py:625: DataConversionWarning: Data with input dtype int16, float64 were all converted to float64 by StandardScaler.\n  return self.partial_fit(X, y)\n/opt/conda/lib/python3.6/site-packages/sklearn/base.py:462: DataConversionWarning: Data with input dtype int16, float64 were all converted to float64 by StandardScaler.\n  return self.fit(X, **fit_params).transform(X)\n/opt/conda/lib/python3.6/site-packages/ipykernel_launcher.py:29: DataConversionWarning: Data with input dtype int16, float64 were all converted to float64 by StandardScaler.\n/opt/conda/lib/python3.6/site-packages/ipykernel_launcher.py:30: DataConversionWarning: Data with input dtype int64, float64 were all converted to float64 by StandardScaler.\n",
          "name": "stderr"
        },
        {
          "output_type": "stream",
          "text": "Fold 0. MAE: 1.9908.\n\nFold 1 started at Mon Jan 14 20:25:23 2019\n",
          "name": "stdout"
        },
        {
          "output_type": "stream",
          "text": "/opt/conda/lib/python3.6/site-packages/sklearn/preprocessing/data.py:625: DataConversionWarning: Data with input dtype int16, float64 were all converted to float64 by StandardScaler.\n  return self.partial_fit(X, y)\n/opt/conda/lib/python3.6/site-packages/sklearn/base.py:462: DataConversionWarning: Data with input dtype int16, float64 were all converted to float64 by StandardScaler.\n  return self.fit(X, **fit_params).transform(X)\n/opt/conda/lib/python3.6/site-packages/ipykernel_launcher.py:29: DataConversionWarning: Data with input dtype int16, float64 were all converted to float64 by StandardScaler.\n/opt/conda/lib/python3.6/site-packages/ipykernel_launcher.py:30: DataConversionWarning: Data with input dtype int64, float64 were all converted to float64 by StandardScaler.\n",
          "name": "stderr"
        },
        {
          "output_type": "stream",
          "text": "Fold 1. MAE: 1.8297.\n\nFold 2 started at Mon Jan 14 20:25:26 2019\n",
          "name": "stdout"
        },
        {
          "output_type": "stream",
          "text": "/opt/conda/lib/python3.6/site-packages/sklearn/preprocessing/data.py:625: DataConversionWarning: Data with input dtype int16, float64 were all converted to float64 by StandardScaler.\n  return self.partial_fit(X, y)\n/opt/conda/lib/python3.6/site-packages/sklearn/base.py:462: DataConversionWarning: Data with input dtype int16, float64 were all converted to float64 by StandardScaler.\n  return self.fit(X, **fit_params).transform(X)\n/opt/conda/lib/python3.6/site-packages/ipykernel_launcher.py:29: DataConversionWarning: Data with input dtype int16, float64 were all converted to float64 by StandardScaler.\n/opt/conda/lib/python3.6/site-packages/ipykernel_launcher.py:30: DataConversionWarning: Data with input dtype int64, float64 were all converted to float64 by StandardScaler.\n",
          "name": "stderr"
        },
        {
          "output_type": "stream",
          "text": "Fold 2. MAE: 1.9461.\n\nFold 3 started at Mon Jan 14 20:25:28 2019\n",
          "name": "stdout"
        },
        {
          "output_type": "stream",
          "text": "/opt/conda/lib/python3.6/site-packages/sklearn/preprocessing/data.py:625: DataConversionWarning: Data with input dtype int16, float64 were all converted to float64 by StandardScaler.\n  return self.partial_fit(X, y)\n/opt/conda/lib/python3.6/site-packages/sklearn/base.py:462: DataConversionWarning: Data with input dtype int16, float64 were all converted to float64 by StandardScaler.\n  return self.fit(X, **fit_params).transform(X)\n/opt/conda/lib/python3.6/site-packages/ipykernel_launcher.py:29: DataConversionWarning: Data with input dtype int16, float64 were all converted to float64 by StandardScaler.\n/opt/conda/lib/python3.6/site-packages/ipykernel_launcher.py:30: DataConversionWarning: Data with input dtype int64, float64 were all converted to float64 by StandardScaler.\n",
          "name": "stderr"
        },
        {
          "output_type": "stream",
          "text": "Fold 3. MAE: 1.8493.\n\nFold 4 started at Mon Jan 14 20:25:31 2019\n",
          "name": "stdout"
        },
        {
          "output_type": "stream",
          "text": "/opt/conda/lib/python3.6/site-packages/sklearn/preprocessing/data.py:625: DataConversionWarning: Data with input dtype int16, float64 were all converted to float64 by StandardScaler.\n  return self.partial_fit(X, y)\n/opt/conda/lib/python3.6/site-packages/sklearn/base.py:462: DataConversionWarning: Data with input dtype int16, float64 were all converted to float64 by StandardScaler.\n  return self.fit(X, **fit_params).transform(X)\n/opt/conda/lib/python3.6/site-packages/ipykernel_launcher.py:29: DataConversionWarning: Data with input dtype int16, float64 were all converted to float64 by StandardScaler.\n/opt/conda/lib/python3.6/site-packages/ipykernel_launcher.py:30: DataConversionWarning: Data with input dtype int64, float64 were all converted to float64 by StandardScaler.\n",
          "name": "stderr"
        },
        {
          "output_type": "stream",
          "text": "Fold 4. MAE: 1.8841.\n\nCV mean score: 1.3782, std: 0.0218.\nFold 0 started at Mon Jan 14 20:25:33 2019\nTraining until validation scores don't improve for 200 rounds.\n",
          "name": "stdout"
        },
        {
          "output_type": "stream",
          "text": "/opt/conda/lib/python3.6/site-packages/lightgbm/engine.py:116: UserWarning: Found `num_iterations` in params. Will use it instead of argument\n  warnings.warn(\"Found `{}` in params. Will use it instead of argument\".format(alias))\n",
          "name": "stderr"
        },
        {
          "output_type": "stream",
          "text": "[1000]\ttraining's l1: 1.95818\tvalid_1's l1: 2.2144\nEarly stopping, best iteration is:\n[1044]\ttraining's l1: 1.95219\tvalid_1's l1: 2.21368\nFold 1 started at Mon Jan 14 20:25:35 2019\nTraining until validation scores don't improve for 200 rounds.\n",
          "name": "stdout"
        },
        {
          "output_type": "stream",
          "text": "/opt/conda/lib/python3.6/site-packages/lightgbm/engine.py:116: UserWarning: Found `num_iterations` in params. Will use it instead of argument\n  warnings.warn(\"Found `{}` in params. Will use it instead of argument\".format(alias))\n",
          "name": "stderr"
        },
        {
          "output_type": "stream",
          "text": "[1000]\ttraining's l1: 2.00035\tvalid_1's l1: 2.05272\nEarly stopping, best iteration is:\n[1347]\ttraining's l1: 1.95502\tvalid_1's l1: 2.04938\nFold 2 started at Mon Jan 14 20:25:38 2019\nTraining until validation scores don't improve for 200 rounds.\n",
          "name": "stdout"
        },
        {
          "output_type": "stream",
          "text": "/opt/conda/lib/python3.6/site-packages/lightgbm/engine.py:116: UserWarning: Found `num_iterations` in params. Will use it instead of argument\n  warnings.warn(\"Found `{}` in params. Will use it instead of argument\".format(alias))\n",
          "name": "stderr"
        },
        {
          "output_type": "stream",
          "text": "[1000]\ttraining's l1: 1.96063\tvalid_1's l1: 2.20091\nEarly stopping, best iteration is:\n[1278]\ttraining's l1: 1.92465\tvalid_1's l1: 2.19673\nFold 3 started at Mon Jan 14 20:25:40 2019\nTraining until validation scores don't improve for 200 rounds.\n",
          "name": "stdout"
        },
        {
          "output_type": "stream",
          "text": "/opt/conda/lib/python3.6/site-packages/lightgbm/engine.py:116: UserWarning: Found `num_iterations` in params. Will use it instead of argument\n  warnings.warn(\"Found `{}` in params. Will use it instead of argument\".format(alias))\n",
          "name": "stderr"
        },
        {
          "output_type": "stream",
          "text": "[1000]\ttraining's l1: 2.00697\tvalid_1's l1: 2.0203\nEarly stopping, best iteration is:\n[1269]\ttraining's l1: 1.97031\tvalid_1's l1: 2.0187\nFold 4 started at Mon Jan 14 20:25:42 2019\nTraining until validation scores don't improve for 200 rounds.\n",
          "name": "stdout"
        },
        {
          "output_type": "stream",
          "text": "/opt/conda/lib/python3.6/site-packages/lightgbm/engine.py:116: UserWarning: Found `num_iterations` in params. Will use it instead of argument\n  warnings.warn(\"Found `{}` in params. Will use it instead of argument\".format(alias))\n",
          "name": "stderr"
        },
        {
          "output_type": "stream",
          "text": "[1000]\ttraining's l1: 1.9923\tvalid_1's l1: 2.07478\nEarly stopping, best iteration is:\n[1035]\ttraining's l1: 1.98704\tvalid_1's l1: 2.07414\nCV mean score: 1.4525, std: 0.0273.\n",
          "name": "stdout"
        },
        {
          "output_type": "stream",
          "text": "/opt/conda/lib/python3.6/site-packages/scipy/stats/stats.py:1713: FutureWarning: Using a non-tuple sequence for multidimensional indexing is deprecated; use `arr[tuple(seq)]` instead of `arr[seq]`. In the future this will be interpreted as an array index, `arr[np.array(seq)]`, which will result either in an error or a different result.\n  return np.add.reduce(sorted[indexer] * weights, axis=axis) / sumval\n",
          "name": "stderr"
        },
        {
          "output_type": "display_data",
          "data": {
            "text/plain": "<Figure size 1152x864 with 1 Axes>",
            "image/png": "[encoded data removed]"
          },
          "metadata": {}
        }
      ]
    },
    {
      "metadata": {
        "trusted": true,
        "_uuid": "0f574276ab66be8f5fd666158a4fda6cf2759755"
      },
      "cell_type": "code",
      "source": "#print(submission.head())\nprint('LightGBM Predictions')\nprint(prediction_lgb)",
      "execution_count": 41,
      "outputs": [
        {
          "output_type": "stream",
          "text": "LightGBM Predictions\n[4.6393752  5.19874283 4.5786311  ... 5.15119344 1.81268718 9.2380645 ]\n",
          "name": "stdout"
        }
      ]
    },
    {
      "metadata": {
        "trusted": true,
        "_uuid": "aa8e5b01f5a11dbb4e70d1aa7cc5b33296262016"
      },
      "cell_type": "code",
      "source": "print('Support Vector Regression Predictions')\nprint(prediction_svr)",
      "execution_count": 42,
      "outputs": [
        {
          "output_type": "stream",
          "text": "Support Vector Regression Predictions\n[4.14213377 5.86830012 5.00778162 ... 4.7358332  4.69349    9.10509309]\n",
          "name": "stdout"
        }
      ]
    },
    {
      "metadata": {
        "trusted": true,
        "_uuid": "bb8ae20725ae441f7b691b6062306f8f130d7f18"
      },
      "cell_type": "code",
      "source": "submission['time_to_failure_1'] = prediction_lgb\nsubmission['time_to_failure_2'] = prediction_svr",
      "execution_count": 43,
      "outputs": []
    },
    {
      "metadata": {
        "trusted": true,
        "_uuid": "dbd7792fd7f868d80456e940977d8e83b9b561b2"
      },
      "cell_type": "code",
      "source": "submission['time_to_failure'] = (submission['time_to_failure_1'] + submission['time_to_failure_2']) / 2",
      "execution_count": 44,
      "outputs": []
    },
    {
      "metadata": {
        "trusted": true,
        "_uuid": "c56b54d24b25344f50833dc3b993b8848e7c2f15"
      },
      "cell_type": "code",
      "source": "submission.head()",
      "execution_count": 45,
      "outputs": [
        {
          "output_type": "execute_result",
          "execution_count": 45,
          "data": {
            "text/plain": "              time_to_failure        ...          time_to_failure_2\nseg_id                               ...                           \nseg_00030f  4.390754486524014        ...          4.142133768909443\nseg_0012b5  5.533521474018463        ...          5.868300122371435\nseg_00184e  4.793206359173521        ...          5.007781617184321\nseg_003339  7.617963925032411        ...          7.602783677737925\nseg_0042cc  6.324731602590226        ...          5.975135925080032\n\n[5 rows x 3 columns]",
            "text/html": "<div>\n<style scoped>\n    .dataframe tbody tr th:only-of-type {\n        vertical-align: middle;\n    }\n\n    .dataframe tbody tr th {\n        vertical-align: top;\n    }\n\n    .dataframe thead th {\n        text-align: right;\n    }\n</style>\n<table border=\"1\" class=\"dataframe\">\n  <thead>\n    <tr style=\"text-align: right;\">\n      <th></th>\n      <th>time_to_failure</th>\n      <th>time_to_failure_1</th>\n      <th>time_to_failure_2</th>\n    </tr>\n    <tr>\n      <th>seg_id</th>\n      <th></th>\n      <th></th>\n      <th></th>\n    </tr>\n  </thead>\n  <tbody>\n    <tr>\n      <th>seg_00030f</th>\n      <td>4.390754486524014</td>\n      <td>4.639375204138585</td>\n      <td>4.142133768909443</td>\n    </tr>\n    <tr>\n      <th>seg_0012b5</th>\n      <td>5.533521474018463</td>\n      <td>5.198742825665491</td>\n      <td>5.868300122371435</td>\n    </tr>\n    <tr>\n      <th>seg_00184e</th>\n      <td>4.793206359173521</td>\n      <td>4.578631101162721</td>\n      <td>5.007781617184321</td>\n    </tr>\n    <tr>\n      <th>seg_003339</th>\n      <td>7.617963925032411</td>\n      <td>7.633144172326898</td>\n      <td>7.602783677737925</td>\n    </tr>\n    <tr>\n      <th>seg_0042cc</th>\n      <td>6.324731602590226</td>\n      <td>6.674327280100421</td>\n      <td>5.975135925080032</td>\n    </tr>\n  </tbody>\n</table>\n</div>"
          },
          "metadata": {}
        }
      ]
    },
    {
      "metadata": {
        "trusted": true,
        "_uuid": "2a48638eb1c7b0a93c69515b1f52d71b761a66c4"
      },
      "cell_type": "code",
      "source": "submission['time_to_failure'].to_csv('submission.csv')",
      "execution_count": 24,
      "outputs": []
    }
  ],
  "metadata": {
    "kernelspec": {
      "display_name": "Python 3",
      "language": "python",
      "name": "python3"
    },
    "language_info": {
      "name": "python",
      "version": "3.6.6",
      "mimetype": "text/x-python",
      "codemirror_mode": {
        "name": "ipython",
        "version": 3
      },
      "pygments_lexer": "ipython3",
      "nbconvert_exporter": "python",
      "file_extension": ".py"
    }
  },
  "nbformat": 4,
  "nbformat_minor": 1
}