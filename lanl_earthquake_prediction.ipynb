{
  "cells": [
    {
      "metadata": {
        "_uuid": "8f2839f25d086af736a60e9eeb907d3b93b6e0e5",
        "_cell_guid": "b1076dfc-b9ad-4769-8c92-a6c4dae69d19",
        "trusted": true
      },
      "cell_type": "code",
      "source": "import numpy as np\nimport pandas as pd\nimport os\n\nimport matplotlib.pyplot as plt\n%matplotlib inline\nfrom tqdm import tqdm_notebook\nfrom sklearn.preprocessing import StandardScaler\nfrom sklearn.svm import NuSVR\nfrom sklearn.metrics import mean_absolute_error\npd.options.display.precision = 15\n\nimport lightgbm as lgb\nimport xgboost as xgb\nimport time\nimport datetime\n\nfrom sklearn.preprocessing import LabelEncoder\nfrom sklearn.model_selection import StratifiedKFold, KFold, RepeatedKFold\nfrom sklearn.metrics import mean_squared_error, mean_absolute_error\nfrom sklearn.linear_model import Ridge, RidgeCV\nimport gc\nfrom catboost import CatBoostRegressor\nimport seaborn as sns",
      "execution_count": 2,
      "outputs": []
    },
    {
      "metadata": {
        "_cell_guid": "79c7e3d0-c299-4dcb-8224-4455121ee9b0",
        "_uuid": "d629ff2d2480ee46fbb7e2d37f6b5fab8052498a",
        "trusted": true
      },
      "cell_type": "code",
      "source": "train = pd.read_csv('../input/train.csv', nrows = 1000000, dtype={'acoustic_data': np.int16, 'time_to_failure': np.float64})",
      "execution_count": 3,
      "outputs": []
    },
    {
      "metadata": {
        "trusted": true,
        "_uuid": "2ae849cbcd879abaa9e1b03ac2ca3d09d0deec32"
      },
      "cell_type": "code",
      "source": "train.head(20)",
      "execution_count": 4,
      "outputs": [
        {
          "output_type": "execute_result",
          "execution_count": 4,
          "data": {
            "text/plain": "    acoustic_data  time_to_failure\n0              12     1.4690999832\n1               6     1.4690999821\n2               8     1.4690999810\n3               5     1.4690999799\n4               8     1.4690999788\n5               8     1.4690999777\n6               9     1.4690999766\n7               7     1.4690999755\n8              -5     1.4690999744\n9               3     1.4690999733\n10              5     1.4690999722\n11              2     1.4690999711\n12              2     1.4690999700\n13              3     1.4690999689\n14             -1     1.4690999678\n15              5     1.4690999667\n16              6     1.4690999656\n17              4     1.4690999645\n18              3     1.4690999634\n19              5     1.4690999623",
            "text/html": "<div>\n<style scoped>\n    .dataframe tbody tr th:only-of-type {\n        vertical-align: middle;\n    }\n\n    .dataframe tbody tr th {\n        vertical-align: top;\n    }\n\n    .dataframe thead th {\n        text-align: right;\n    }\n</style>\n<table border=\"1\" class=\"dataframe\">\n  <thead>\n    <tr style=\"text-align: right;\">\n      <th></th>\n      <th>acoustic_data</th>\n      <th>time_to_failure</th>\n    </tr>\n  </thead>\n  <tbody>\n    <tr>\n      <th>0</th>\n      <td>12</td>\n      <td>1.4690999832</td>\n    </tr>\n    <tr>\n      <th>1</th>\n      <td>6</td>\n      <td>1.4690999821</td>\n    </tr>\n    <tr>\n      <th>2</th>\n      <td>8</td>\n      <td>1.4690999810</td>\n    </tr>\n    <tr>\n      <th>3</th>\n      <td>5</td>\n      <td>1.4690999799</td>\n    </tr>\n    <tr>\n      <th>4</th>\n      <td>8</td>\n      <td>1.4690999788</td>\n    </tr>\n    <tr>\n      <th>5</th>\n      <td>8</td>\n      <td>1.4690999777</td>\n    </tr>\n    <tr>\n      <th>6</th>\n      <td>9</td>\n      <td>1.4690999766</td>\n    </tr>\n    <tr>\n      <th>7</th>\n      <td>7</td>\n      <td>1.4690999755</td>\n    </tr>\n    <tr>\n      <th>8</th>\n      <td>-5</td>\n      <td>1.4690999744</td>\n    </tr>\n    <tr>\n      <th>9</th>\n      <td>3</td>\n      <td>1.4690999733</td>\n    </tr>\n    <tr>\n      <th>10</th>\n      <td>5</td>\n      <td>1.4690999722</td>\n    </tr>\n    <tr>\n      <th>11</th>\n      <td>2</td>\n      <td>1.4690999711</td>\n    </tr>\n    <tr>\n      <th>12</th>\n      <td>2</td>\n      <td>1.4690999700</td>\n    </tr>\n    <tr>\n      <th>13</th>\n      <td>3</td>\n      <td>1.4690999689</td>\n    </tr>\n    <tr>\n      <th>14</th>\n      <td>-1</td>\n      <td>1.4690999678</td>\n    </tr>\n    <tr>\n      <th>15</th>\n      <td>5</td>\n      <td>1.4690999667</td>\n    </tr>\n    <tr>\n      <th>16</th>\n      <td>6</td>\n      <td>1.4690999656</td>\n    </tr>\n    <tr>\n      <th>17</th>\n      <td>4</td>\n      <td>1.4690999645</td>\n    </tr>\n    <tr>\n      <th>18</th>\n      <td>3</td>\n      <td>1.4690999634</td>\n    </tr>\n    <tr>\n      <th>19</th>\n      <td>5</td>\n      <td>1.4690999623</td>\n    </tr>\n  </tbody>\n</table>\n</div>"
          },
          "metadata": {}
        }
      ]
    },
    {
      "metadata": {
        "trusted": true,
        "_uuid": "0f0f0a4f7739cff51c0261b2b48a8be955d185ba"
      },
      "cell_type": "code",
      "source": "train.describe()",
      "execution_count": 5,
      "outputs": [
        {
          "output_type": "execute_result",
          "execution_count": 5,
          "data": {
            "text/plain": "                 acoustic_data          time_to_failure\ncount  1000000.000000000000000  1000000.000000000000000\nmean         4.876248000000000        1.339787547164501\nstd          6.380823156725169        0.074985946080878\nmin       -199.000000000000000        1.209499350700000\n25%          2.000000000000000        1.274399508825000\n50%          5.000000000000000        1.339299666950000\n75%          7.000000000000000        1.404199825075000\nmax        197.000000000000000        1.469099983200000",
            "text/html": "<div>\n<style scoped>\n    .dataframe tbody tr th:only-of-type {\n        vertical-align: middle;\n    }\n\n    .dataframe tbody tr th {\n        vertical-align: top;\n    }\n\n    .dataframe thead th {\n        text-align: right;\n    }\n</style>\n<table border=\"1\" class=\"dataframe\">\n  <thead>\n    <tr style=\"text-align: right;\">\n      <th></th>\n      <th>acoustic_data</th>\n      <th>time_to_failure</th>\n    </tr>\n  </thead>\n  <tbody>\n    <tr>\n      <th>count</th>\n      <td>1000000.000000000000000</td>\n      <td>1000000.000000000000000</td>\n    </tr>\n    <tr>\n      <th>mean</th>\n      <td>4.876248000000000</td>\n      <td>1.339787547164501</td>\n    </tr>\n    <tr>\n      <th>std</th>\n      <td>6.380823156725169</td>\n      <td>0.074985946080878</td>\n    </tr>\n    <tr>\n      <th>min</th>\n      <td>-199.000000000000000</td>\n      <td>1.209499350700000</td>\n    </tr>\n    <tr>\n      <th>25%</th>\n      <td>2.000000000000000</td>\n      <td>1.274399508825000</td>\n    </tr>\n    <tr>\n      <th>50%</th>\n      <td>5.000000000000000</td>\n      <td>1.339299666950000</td>\n    </tr>\n    <tr>\n      <th>75%</th>\n      <td>7.000000000000000</td>\n      <td>1.404199825075000</td>\n    </tr>\n    <tr>\n      <th>max</th>\n      <td>197.000000000000000</td>\n      <td>1.469099983200000</td>\n    </tr>\n  </tbody>\n</table>\n</div>"
          },
          "metadata": {}
        }
      ]
    },
    {
      "metadata": {
        "trusted": true,
        "_uuid": "f3c53b299c69c77e7a96afb41051488cfcf4284b"
      },
      "cell_type": "code",
      "source": "train.info()",
      "execution_count": 6,
      "outputs": [
        {
          "output_type": "stream",
          "text": "<class 'pandas.core.frame.DataFrame'>\nRangeIndex: 1000000 entries, 0 to 999999\nData columns (total 2 columns):\nacoustic_data      1000000 non-null int16\ntime_to_failure    1000000 non-null float64\ndtypes: float64(1), int16(1)\nmemory usage: 9.5 MB\n",
          "name": "stdout"
        }
      ]
    },
    {
      "metadata": {
        "trusted": true,
        "_uuid": "cf26e6f81beff4f185e127de1ed2341a35a9efc1"
      },
      "cell_type": "code",
      "source": "train.shape",
      "execution_count": 8,
      "outputs": [
        {
          "output_type": "execute_result",
          "execution_count": 8,
          "data": {
            "text/plain": "(1000000, 2)"
          },
          "metadata": {}
        }
      ]
    },
    {
      "metadata": {
        "trusted": true,
        "scrolled": true,
        "_uuid": "9bd76d55a4d26e09792fd7ceb2f09a1f61261a88"
      },
      "cell_type": "code",
      "source": "train.columns",
      "execution_count": 10,
      "outputs": [
        {
          "output_type": "execute_result",
          "execution_count": 10,
          "data": {
            "text/plain": "Index(['acoustic_data', 'time_to_failure'], dtype='object')"
          },
          "metadata": {}
        }
      ]
    },
    {
      "metadata": {
        "trusted": true,
        "_uuid": "b5af149da9d74080b72426eaa43acf45cacdc1d7"
      },
      "cell_type": "code",
      "source": "train[\"sma\"] = train[\"acoustic_data\"].rolling(window = 5).mean()\ntrain.head(10)",
      "execution_count": 12,
      "outputs": [
        {
          "output_type": "execute_result",
          "execution_count": 12,
          "data": {
            "text/plain": "   acoustic_data  time_to_failure  sma\n0             12     1.4690999832  NaN\n1              6     1.4690999821  NaN\n2              8     1.4690999810  NaN\n3              5     1.4690999799  NaN\n4              8     1.4690999788  7.8\n5              8     1.4690999777  7.0\n6              9     1.4690999766  7.6\n7              7     1.4690999755  7.4\n8             -5     1.4690999744  5.4\n9              3     1.4690999733  4.4",
            "text/html": "<div>\n<style scoped>\n    .dataframe tbody tr th:only-of-type {\n        vertical-align: middle;\n    }\n\n    .dataframe tbody tr th {\n        vertical-align: top;\n    }\n\n    .dataframe thead th {\n        text-align: right;\n    }\n</style>\n<table border=\"1\" class=\"dataframe\">\n  <thead>\n    <tr style=\"text-align: right;\">\n      <th></th>\n      <th>acoustic_data</th>\n      <th>time_to_failure</th>\n      <th>sma</th>\n    </tr>\n  </thead>\n  <tbody>\n    <tr>\n      <th>0</th>\n      <td>12</td>\n      <td>1.4690999832</td>\n      <td>NaN</td>\n    </tr>\n    <tr>\n      <th>1</th>\n      <td>6</td>\n      <td>1.4690999821</td>\n      <td>NaN</td>\n    </tr>\n    <tr>\n      <th>2</th>\n      <td>8</td>\n      <td>1.4690999810</td>\n      <td>NaN</td>\n    </tr>\n    <tr>\n      <th>3</th>\n      <td>5</td>\n      <td>1.4690999799</td>\n      <td>NaN</td>\n    </tr>\n    <tr>\n      <th>4</th>\n      <td>8</td>\n      <td>1.4690999788</td>\n      <td>7.8</td>\n    </tr>\n    <tr>\n      <th>5</th>\n      <td>8</td>\n      <td>1.4690999777</td>\n      <td>7.0</td>\n    </tr>\n    <tr>\n      <th>6</th>\n      <td>9</td>\n      <td>1.4690999766</td>\n      <td>7.6</td>\n    </tr>\n    <tr>\n      <th>7</th>\n      <td>7</td>\n      <td>1.4690999755</td>\n      <td>7.4</td>\n    </tr>\n    <tr>\n      <th>8</th>\n      <td>-5</td>\n      <td>1.4690999744</td>\n      <td>5.4</td>\n    </tr>\n    <tr>\n      <th>9</th>\n      <td>3</td>\n      <td>1.4690999733</td>\n      <td>4.4</td>\n    </tr>\n  </tbody>\n</table>\n</div>"
          },
          "metadata": {}
        }
      ]
    },
    {
      "metadata": {
        "trusted": true,
        "_uuid": "dd5d1e9906f91c68c409967e1cf0f58a65762264"
      },
      "cell_type": "code",
      "source": "train[\"ewma\"] = pd.Series.ewm(train['acoustic_data'], span=5).mean()\ntrain.head(10)",
      "execution_count": 15,
      "outputs": [
        {
          "output_type": "execute_result",
          "execution_count": 15,
          "data": {
            "text/plain": "   acoustic_data  time_to_failure  sma                ewma\n0             12     1.4690999832  NaN  12.000000000000000\n1              6     1.4690999821  NaN   8.400000000000000\n2              8     1.4690999810  NaN   8.210526315789473\n3              5     1.4690999799  NaN   6.876923076923076\n4              8     1.4690999788  7.8   7.308056872037914\n5              8     1.4690999777  7.0   7.560902255639098\n6              9     1.4690999766  7.6   8.070422535211268\n7              7     1.4690999755  7.4   7.699127676447264\n8             -5     1.4690999744  5.4   3.353033227270357\n9              3     1.4690999733  4.4   3.233278759155537",
            "text/html": "<div>\n<style scoped>\n    .dataframe tbody tr th:only-of-type {\n        vertical-align: middle;\n    }\n\n    .dataframe tbody tr th {\n        vertical-align: top;\n    }\n\n    .dataframe thead th {\n        text-align: right;\n    }\n</style>\n<table border=\"1\" class=\"dataframe\">\n  <thead>\n    <tr style=\"text-align: right;\">\n      <th></th>\n      <th>acoustic_data</th>\n      <th>time_to_failure</th>\n      <th>sma</th>\n      <th>ewma</th>\n    </tr>\n  </thead>\n  <tbody>\n    <tr>\n      <th>0</th>\n      <td>12</td>\n      <td>1.4690999832</td>\n      <td>NaN</td>\n      <td>12.000000000000000</td>\n    </tr>\n    <tr>\n      <th>1</th>\n      <td>6</td>\n      <td>1.4690999821</td>\n      <td>NaN</td>\n      <td>8.400000000000000</td>\n    </tr>\n    <tr>\n      <th>2</th>\n      <td>8</td>\n      <td>1.4690999810</td>\n      <td>NaN</td>\n      <td>8.210526315789473</td>\n    </tr>\n    <tr>\n      <th>3</th>\n      <td>5</td>\n      <td>1.4690999799</td>\n      <td>NaN</td>\n      <td>6.876923076923076</td>\n    </tr>\n    <tr>\n      <th>4</th>\n      <td>8</td>\n      <td>1.4690999788</td>\n      <td>7.8</td>\n      <td>7.308056872037914</td>\n    </tr>\n    <tr>\n      <th>5</th>\n      <td>8</td>\n      <td>1.4690999777</td>\n      <td>7.0</td>\n      <td>7.560902255639098</td>\n    </tr>\n    <tr>\n      <th>6</th>\n      <td>9</td>\n      <td>1.4690999766</td>\n      <td>7.6</td>\n      <td>8.070422535211268</td>\n    </tr>\n    <tr>\n      <th>7</th>\n      <td>7</td>\n      <td>1.4690999755</td>\n      <td>7.4</td>\n      <td>7.699127676447264</td>\n    </tr>\n    <tr>\n      <th>8</th>\n      <td>-5</td>\n      <td>1.4690999744</td>\n      <td>5.4</td>\n      <td>3.353033227270357</td>\n    </tr>\n    <tr>\n      <th>9</th>\n      <td>3</td>\n      <td>1.4690999733</td>\n      <td>4.4</td>\n      <td>3.233278759155537</td>\n    </tr>\n  </tbody>\n</table>\n</div>"
          },
          "metadata": {}
        }
      ]
    },
    {
      "metadata": {
        "trusted": true,
        "_uuid": "6c935b80fdc2da5099dadf24157cf5acae19a91e"
      },
      "cell_type": "code",
      "source": "",
      "execution_count": null,
      "outputs": []
    }
  ],
  "metadata": {
    "kernelspec": {
      "display_name": "Python 3",
      "language": "python",
      "name": "python3"
    },
    "language_info": {
      "name": "python",
      "version": "3.6.6",
      "mimetype": "text/x-python",
      "codemirror_mode": {
        "name": "ipython",
        "version": 3
      },
      "pygments_lexer": "ipython3",
      "nbconvert_exporter": "python",
      "file_extension": ".py"
    }
  },
  "nbformat": 4,
  "nbformat_minor": 1
}